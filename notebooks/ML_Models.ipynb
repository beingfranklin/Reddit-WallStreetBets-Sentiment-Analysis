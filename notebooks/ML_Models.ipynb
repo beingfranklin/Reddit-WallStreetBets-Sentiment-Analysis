{
  "nbformat": 4,
  "nbformat_minor": 0,
  "metadata": {
    "colab": {
      "name": "ML Models.ipynb",
      "provenance": []
    },
    "kernelspec": {
      "name": "python3",
      "display_name": "Python 3"
    },
    "language_info": {
      "name": "python"
    }
  },
  "cells": [
    {
      "cell_type": "code",
      "metadata": {
        "id": "E_dpd87IDWtH"
      },
      "source": [
        "import math\n",
        "import random\n",
        "from collections import defaultdict\n",
        "from pprint import pprint\n",
        "\n",
        "# Prevent future/deprecation warnings from showing in output\n",
        "import warnings\n",
        "warnings.filterwarnings(action='ignore')\n",
        "\n",
        "import seaborn as sns\n",
        "import matplotlib.pyplot as plt\n",
        "import numpy as np\n",
        "import pandas as pd\n",
        "\n",
        "import re\n",
        "\n",
        "# Set global styles for plots\n",
        "sns.set_style(style='white')\n",
        "sns.set_context(context='notebook', font_scale=1.3, rc={'figure.figsize': (16,9)})"
      ],
      "execution_count": null,
      "outputs": []
    },
    {
      "cell_type": "code",
      "metadata": {
        "colab": {
          "base_uri": "https://localhost:8080/",
          "height": 197
        },
        "id": "Y6GlLdUEDa2g",
        "outputId": "d76fd1b2-0d99-4b9f-d86e-45db2cc120ad"
      },
      "source": [
        "df = pd.read_csv('Reddit_wsb_labelled.csv', encoding='utf-8')\n",
        "df.head()"
      ],
      "execution_count": null,
      "outputs": [
        {
          "output_type": "execute_result",
          "data": {
            "text/html": [
              "<div>\n",
              "<style scoped>\n",
              "    .dataframe tbody tr th:only-of-type {\n",
              "        vertical-align: middle;\n",
              "    }\n",
              "\n",
              "    .dataframe tbody tr th {\n",
              "        vertical-align: top;\n",
              "    }\n",
              "\n",
              "    .dataframe thead th {\n",
              "        text-align: right;\n",
              "    }\n",
              "</style>\n",
              "<table border=\"1\" class=\"dataframe\">\n",
              "  <thead>\n",
              "    <tr style=\"text-align: right;\">\n",
              "      <th></th>\n",
              "      <th>clean_comment</th>\n",
              "      <th>category</th>\n",
              "    </tr>\n",
              "  </thead>\n",
              "  <tbody>\n",
              "    <tr>\n",
              "      <th>0</th>\n",
              "      <td>it not about the money it about sending message</td>\n",
              "      <td>0</td>\n",
              "    </tr>\n",
              "    <tr>\n",
              "      <th>1</th>\n",
              "      <td>math professor scott steiner says the numbers ...</td>\n",
              "      <td>-1</td>\n",
              "    </tr>\n",
              "    <tr>\n",
              "      <th>2</th>\n",
              "      <td>exit the system</td>\n",
              "      <td>0</td>\n",
              "    </tr>\n",
              "    <tr>\n",
              "      <th>3</th>\n",
              "      <td>new sec filing for gme can someone less retard...</td>\n",
              "      <td>-1</td>\n",
              "    </tr>\n",
              "    <tr>\n",
              "      <th>4</th>\n",
              "      <td>not to distract from gme just thought our amc ...</td>\n",
              "      <td>1</td>\n",
              "    </tr>\n",
              "  </tbody>\n",
              "</table>\n",
              "</div>"
            ],
            "text/plain": [
              "                                       clean_comment  category\n",
              "0    it not about the money it about sending message         0\n",
              "1  math professor scott steiner says the numbers ...        -1\n",
              "2                                    exit the system         0\n",
              "3  new sec filing for gme can someone less retard...        -1\n",
              "4  not to distract from gme just thought our amc ...         1"
            ]
          },
          "metadata": {
            "tags": []
          },
          "execution_count": 5
        }
      ]
    },
    {
      "cell_type": "code",
      "metadata": {
        "colab": {
          "base_uri": "https://localhost:8080/"
        },
        "id": "f9edEktkEPed",
        "outputId": "c6ddcd89-d311-4357-cd1f-6af5927cae67"
      },
      "source": [
        "# Removing nuetral comments\n",
        "df = df[df.category != 0]\n",
        "df.category.value_counts()"
      ],
      "execution_count": null,
      "outputs": [
        {
          "output_type": "execute_result",
          "data": {
            "text/plain": [
              " 1    13731\n",
              "-1    10441\n",
              "Name: category, dtype: int64"
            ]
          },
          "metadata": {
            "tags": []
          },
          "execution_count": 7
        }
      ]
    },
    {
      "cell_type": "code",
      "metadata": {
        "colab": {
          "base_uri": "https://localhost:8080/"
        },
        "id": "pFdlDxP7Eqag",
        "outputId": "0915edc0-eedd-400f-a472-442962952df4"
      },
      "source": [
        "from sklearn.feature_extraction.text import CountVectorizer\n",
        "vect = CountVectorizer(max_features=1000, binary=True)\n",
        "X = vect.fit_transform(df.clean_comment)\n",
        "\n",
        "X.toarray()"
      ],
      "execution_count": null,
      "outputs": [
        {
          "output_type": "execute_result",
          "data": {
            "text/plain": [
              "array([[0, 0, 0, ..., 0, 0, 0],\n",
              "       [0, 0, 0, ..., 0, 0, 0],\n",
              "       [0, 0, 0, ..., 0, 0, 0],\n",
              "       ...,\n",
              "       [0, 0, 0, ..., 0, 0, 0],\n",
              "       [0, 0, 0, ..., 0, 0, 0],\n",
              "       [0, 0, 0, ..., 0, 0, 0]])"
            ]
          },
          "metadata": {
            "tags": []
          },
          "execution_count": 88
        }
      ]
    },
    {
      "cell_type": "code",
      "metadata": {
        "id": "9UULdbT0EyAK"
      },
      "source": [
        "from sklearn.model_selection import train_test_split\n",
        "# Post Titles\n",
        "X = df.clean_comment\n",
        "# Labels of polarity(-1,0,1)\n",
        "y = df.category\n",
        "\n",
        "X_train, X_test, y_train, y_test = train_test_split(X, y, test_size=0.2)"
      ],
      "execution_count": null,
      "outputs": []
    },
    {
      "cell_type": "code",
      "metadata": {
        "id": "DQtIm_2AE5Jg"
      },
      "source": [
        "from sklearn.feature_extraction.text import CountVectorizer\n",
        "vect = CountVectorizer(max_features=1000, binary=True)\n",
        "X_train_vect = vect.fit_transform(X_train)"
      ],
      "execution_count": null,
      "outputs": []
    },
    {
      "cell_type": "code",
      "metadata": {
        "id": "5D4StY0-Fasm"
      },
      "source": [
        "X_train_res, y_train_res = X_train_vect, y_train"
      ],
      "execution_count": null,
      "outputs": []
    },
    {
      "cell_type": "code",
      "metadata": {
        "colab": {
          "base_uri": "https://localhost:8080/"
        },
        "id": "XgPK8KhRFxeT",
        "outputId": "5034cfcb-8086-4b19-9d1c-93aa2d6a4d23"
      },
      "source": [
        "from sklearn.naive_bayes import MultinomialNB\n",
        "nb = MultinomialNB()\n",
        "nb.fit(X_train_res, y_train_res)\n",
        "nb.score(X_train_res, y_train_res)"
      ],
      "execution_count": null,
      "outputs": [
        {
          "output_type": "execute_result",
          "data": {
            "text/plain": [
              "0.8325489993277138"
            ]
          },
          "metadata": {
            "tags": []
          },
          "execution_count": 92
        }
      ]
    },
    {
      "cell_type": "code",
      "metadata": {
        "colab": {
          "base_uri": "https://localhost:8080/"
        },
        "id": "uor4j-NuF0B5",
        "outputId": "6de1ef0d-ec9a-4323-f888-532fce48a73d"
      },
      "source": [
        "X_test_vect = vect.transform(X_test)\n",
        "y_pred = nb.predict(X_test_vect)\n",
        "y_pred"
      ],
      "execution_count": null,
      "outputs": [
        {
          "output_type": "execute_result",
          "data": {
            "text/plain": [
              "array([ 1, -1, -1, ..., -1,  1,  1])"
            ]
          },
          "metadata": {
            "tags": []
          },
          "execution_count": 93
        }
      ]
    },
    {
      "cell_type": "code",
      "metadata": {
        "colab": {
          "base_uri": "https://localhost:8080/"
        },
        "id": "Yh6vDj4YuFtd",
        "outputId": "8d13ef2c-b086-463f-c061-25949ff865b2"
      },
      "source": [
        "np.mean(y_pred)"
      ],
      "execution_count": null,
      "outputs": [
        {
          "output_type": "execute_result",
          "data": {
            "text/plain": [
              "0.16980351602895552"
            ]
          },
          "metadata": {
            "tags": []
          },
          "execution_count": 94
        }
      ]
    },
    {
      "cell_type": "code",
      "metadata": {
        "colab": {
          "base_uri": "https://localhost:8080/"
        },
        "id": "Q2F_vBv1XI1Q",
        "outputId": "8b656fda-5708-4430-a444-1fd027daadef"
      },
      "source": [
        "from sklearn.metrics import accuracy_score, f1_score, confusion_matrix\n",
        "\n",
        "print(\"Accuracy: {:.2f}%\".format(accuracy_score(y_test, y_pred) * 100))\n",
        "print(\"\\nF1 Score: {:.2f}\".format(f1_score(y_test, y_pred) * 100))\n",
        "print(\"\\nConfusion Matrix:\\n\", confusion_matrix(y_test, y_pred))"
      ],
      "execution_count": null,
      "outputs": [
        {
          "output_type": "stream",
          "text": [
            "Accuracy: 82.61%\n",
            "\n",
            "F1 Score: 84.96\n",
            "\n",
            "Confusion Matrix:\n",
            " [[1619  453]\n",
            " [ 388 2375]]\n"
          ],
          "name": "stdout"
        }
      ]
    },
    {
      "cell_type": "code",
      "metadata": {
        "colab": {
          "base_uri": "https://localhost:8080/"
        },
        "id": "817MlSBcPldh",
        "outputId": "17407b25-2bd0-48b2-f079-299104b46d8c"
      },
      "source": [
        "from sklearn.linear_model import LogisticRegression\n",
        "lr = LogisticRegression()\n",
        "lr.fit(X_train_res, y_train_res)\n",
        "lr.score(X_train_res, y_train_res)"
      ],
      "execution_count": null,
      "outputs": [
        {
          "output_type": "execute_result",
          "data": {
            "text/plain": [
              "0.8700936029373739"
            ]
          },
          "metadata": {
            "tags": []
          },
          "execution_count": 96
        }
      ]
    },
    {
      "cell_type": "code",
      "metadata": {
        "colab": {
          "base_uri": "https://localhost:8080/"
        },
        "id": "5A_AJhQBAbaG",
        "outputId": "d3f80f3e-0a08-4e13-d0a4-31f6a858a3ea"
      },
      "source": [
        "X_test_vect = vect.transform(X_test)\n",
        "y_pred = lr.predict(X_test_vect)\n",
        "y_pred"
      ],
      "execution_count": null,
      "outputs": [
        {
          "output_type": "execute_result",
          "data": {
            "text/plain": [
              "array([ 1, -1, -1, ..., -1,  1,  1])"
            ]
          },
          "metadata": {
            "tags": []
          },
          "execution_count": 97
        }
      ]
    },
    {
      "cell_type": "code",
      "metadata": {
        "colab": {
          "base_uri": "https://localhost:8080/"
        },
        "id": "5MzYVTefuVmm",
        "outputId": "bc63554f-6645-4cfd-f4dc-6beda524b259"
      },
      "source": [
        "np.mean(y_pred)"
      ],
      "execution_count": null,
      "outputs": [
        {
          "output_type": "execute_result",
          "data": {
            "text/plain": [
              "0.16359875904860394"
            ]
          },
          "metadata": {
            "tags": []
          },
          "execution_count": 98
        }
      ]
    },
    {
      "cell_type": "code",
      "metadata": {
        "colab": {
          "base_uri": "https://localhost:8080/"
        },
        "id": "UFYN942RXGxr",
        "outputId": "dcbd397e-a871-4c05-9613-73222be77e77"
      },
      "source": [
        "print(\"Accuracy: {:.2f}%\".format(accuracy_score(y_test, y_pred) * 100))\n",
        "print(\"\\nF1 Score: {:.2f}\".format(f1_score(y_test, y_pred) * 100))\n",
        "print(\"\\nConfusion Matrix:\\n\", confusion_matrix(y_test, y_pred))"
      ],
      "execution_count": null,
      "outputs": [
        {
          "output_type": "stream",
          "text": [
            "Accuracy: 85.73%\n",
            "\n",
            "F1 Score: 87.63\n",
            "\n",
            "Confusion Matrix:\n",
            " [[1702  370]\n",
            " [ 320 2443]]\n"
          ],
          "name": "stdout"
        }
      ]
    },
    {
      "cell_type": "code",
      "metadata": {
        "colab": {
          "base_uri": "https://localhost:8080/"
        },
        "id": "Tw6SZ-nURCpv",
        "outputId": "33d64b49-269b-4ea5-c954-8b84610512e0"
      },
      "source": [
        "from sklearn.svm import LinearSVC\n",
        "lsvc = LinearSVC()\n",
        "lsvc.fit(X_train_res, y_train_res)\n",
        "lsvc.score(X_train_res, y_train_res)"
      ],
      "execution_count": null,
      "outputs": [
        {
          "output_type": "execute_result",
          "data": {
            "text/plain": [
              "0.8712830325283136"
            ]
          },
          "metadata": {
            "tags": []
          },
          "execution_count": 100
        }
      ]
    },
    {
      "cell_type": "code",
      "metadata": {
        "colab": {
          "base_uri": "https://localhost:8080/"
        },
        "id": "aLbCsZanREl4",
        "outputId": "ec1d7dad-5d60-44f9-ce9a-8e6c6778061c"
      },
      "source": [
        "X_test_vect = vect.transform(X_test)\n",
        "y_pred = lsvc.predict(X_test_vect)\n",
        "y_pred"
      ],
      "execution_count": null,
      "outputs": [
        {
          "output_type": "execute_result",
          "data": {
            "text/plain": [
              "array([ 1, -1, -1, ..., -1, -1,  1])"
            ]
          },
          "metadata": {
            "tags": []
          },
          "execution_count": 101
        }
      ]
    },
    {
      "cell_type": "code",
      "metadata": {
        "colab": {
          "base_uri": "https://localhost:8080/"
        },
        "id": "3zasFqvqucw5",
        "outputId": "4de32802-2a99-44cc-8809-e94971159209"
      },
      "source": [
        "np.mean(y_pred)"
      ],
      "execution_count": null,
      "outputs": [
        {
          "output_type": "execute_result",
          "data": {
            "text/plain": [
              "0.14167528438469493"
            ]
          },
          "metadata": {
            "tags": []
          },
          "execution_count": 102
        }
      ]
    },
    {
      "cell_type": "code",
      "metadata": {
        "colab": {
          "base_uri": "https://localhost:8080/"
        },
        "id": "J_TGD0FrXErF",
        "outputId": "ebef9ff4-824b-4a22-f350-1019dd01dced"
      },
      "source": [
        "print(\"Accuracy: {:.2f}%\".format(accuracy_score(y_test, y_pred) * 100))\n",
        "print(\"\\nF1 Score: {:.2f}\".format(f1_score(y_test, y_pred) * 100))\n",
        "print(\"\\nConfusion Matrix:\\n\", confusion_matrix(y_test, y_pred))"
      ],
      "execution_count": null,
      "outputs": [
        {
          "output_type": "stream",
          "text": [
            "Accuracy: 85.58%\n",
            "\n",
            "F1 Score: 87.38\n",
            "\n",
            "Confusion Matrix:\n",
            " [[1725  347]\n",
            " [ 350 2413]]\n"
          ],
          "name": "stdout"
        }
      ]
    },
    {
      "cell_type": "code",
      "metadata": {
        "colab": {
          "base_uri": "https://localhost:8080/",
          "height": 400
        },
        "id": "bybXxLtnGbfm",
        "outputId": "87dfff08-3a71-449f-c649-cc218174bb89"
      },
      "source": [
        "from sklearn.model_selection import ShuffleSplit\n",
        "\n",
        "X = df.clean_comment\n",
        "y = df.category\n",
        "\n",
        "ss = ShuffleSplit(n_splits=10, test_size=0.2)\n",
        "accs = []\n",
        "f1s = []\n",
        "cms = []\n",
        "\n",
        "for train_index, test_index in ss.split(X):\n",
        "    \n",
        "    X_train, X_test = X.iloc[train_index], X.iloc[test_index]\n",
        "    y_train, y_test = y.iloc[train_index], y.iloc[test_index]\n",
        "    \n",
        "    # Fit vectorizer and transform X train, then transform X test\n",
        "    X_train_vect = vect.fit_transform(X_train)\n",
        "    X_test_vect = vect.transform(X_test)\n",
        "    \n",
        "    # Oversample\n",
        "    X_train_res, y_train_res = X_train_vect, y_train\n",
        "    \n",
        "    # Fit Naive Bayes on the vectorized X with y train labels, \n",
        "    # then predict new y labels using X test\n",
        "    nb.fit(X_train_res, y_train_res)\n",
        "    y_pred = nb.predict(X_test_vect)\n",
        "    \n",
        "    # Determine test set accuracy and f1 score on this fold using the true y labels and predicted y labels\n",
        "    accs.append(accuracy_score(y_test, y_pred))\n",
        "    f1s.append(f1_score(y_test, y_pred))\n",
        "    cms.append(confusion_matrix(y_test, y_pred))\n",
        "\n",
        "    NB_confusion_matrix = format(sum(cms) / len(cms))\n",
        "    \n",
        "print(\"\\nAverage accuracy across folds: {:.2f}%\".format(sum(accs) / len(accs) * 100))\n",
        "print(\"\\nAverage F1 score across folds: {:.2f}%\".format(sum(f1s) / len(f1s) * 100))\n",
        "print(\"\\nAverage Confusion Matrix across folds: \\n\")\n",
        "# .format(sum(cms) / len(cms)))\n",
        "\n",
        "sns.set(font_scale=1.5)\n",
        "cm = confusion_matrix(y_pred, y_test)\n",
        "sns.heatmap(cm, annot=True, fmt='g')\n",
        "plt.show()"
      ],
      "execution_count": null,
      "outputs": [
        {
          "output_type": "stream",
          "text": [
            "\n",
            "Average accuracy across folds: 81.77%\n",
            "\n",
            "Average F1 score across folds: 84.26%\n",
            "\n",
            "Average Confusion Matrix across folds: \n",
            "\n"
          ],
          "name": "stdout"
        },
        {
          "output_type": "display_data",
          "data": {
            "image/png": "[encoded data removed]",
            "text/plain": [
              "<Figure size 432x288 with 2 Axes>"
            ]
          },
          "metadata": {
            "tags": []
          }
        }
      ]
    },
    {
      "cell_type": "code",
      "metadata": {
        "colab": {
          "base_uri": "https://localhost:8080/",
          "height": 590
        },
        "id": "oHIEp2vSKYFx",
        "outputId": "a207d5a8-8dfe-4c3c-c786-3faa93a50299"
      },
      "source": [
        "fig, (ax1, ax2) = plt.subplots(2, 1, sharex=True, figsize=(16,9))\n",
        "\n",
        "acc_scores = [round(a * 100, 1) for a in accs]\n",
        "f1_scores = [round(f * 100, 2) for f in f1s]\n",
        "\n",
        "x1 = np.arange(len(acc_scores))\n",
        "x2 = np.arange(len(f1_scores))\n",
        "\n",
        "ax1.bar(x1, acc_scores)\n",
        "ax2.bar(x2, f1_scores, color='#559ebf')\n",
        "\n",
        "# Place values on top of bars\n",
        "for i, v in enumerate(list(zip(acc_scores, f1_scores))):\n",
        "    ax1.text(i - 0.25, v[0] + 2, str(v[0]) + '%')\n",
        "    ax2.text(i - 0.25, v[1] + 2, str(v[1]))\n",
        "\n",
        "ax1.set_ylabel('Accuracy (%)')\n",
        "ax1.set_title('Naive Bayes')\n",
        "ax1.set_ylim([0, 100])\n",
        "\n",
        "ax2.set_ylabel('F1 Score')\n",
        "ax2.set_xlabel('Runs')\n",
        "ax2.set_ylim([0, 100])\n",
        "\n",
        "sns.despine(bottom=True, left=True)  # Remove the ticks on axes for cleaner presentation\n",
        "\n",
        "plt.show()"
      ],
      "execution_count": null,
      "outputs": [
        {
          "output_type": "display_data",
          "data": {
            "image/png": "[encoded data removed]",
            "text/plain": [
              "<Figure size 1152x648 with 2 Axes>"
            ]
          },
          "metadata": {
            "tags": []
          }
        }
      ]
    },
    {
      "cell_type": "code",
      "metadata": {
        "colab": {
          "base_uri": "https://localhost:8080/",
          "height": 400
        },
        "id": "5WMdUAL6PowM",
        "outputId": "3fe7a332-7b03-46c8-e947-4175e41b3424"
      },
      "source": [
        "from sklearn.model_selection import ShuffleSplit\n",
        "\n",
        "X = df.clean_comment\n",
        "y = df.category\n",
        "\n",
        "ss = ShuffleSplit(n_splits=10, test_size=0.2)\n",
        "# sm = SMOTE()\n",
        "\n",
        "accs = []\n",
        "f1s = []\n",
        "cms = []\n",
        "\n",
        "for train_index, test_index in ss.split(X):\n",
        "    \n",
        "    X_train, X_test = X.iloc[train_index], X.iloc[test_index]\n",
        "    y_train, y_test = y.iloc[train_index], y.iloc[test_index]\n",
        "    \n",
        "    # Fit vectorizer and transform X train, then transform X test\n",
        "    X_train_vect = vect.fit_transform(X_train)\n",
        "    X_test_vect = vect.transform(X_test)\n",
        "    \n",
        "    # Oversample\n",
        "    X_train_res, y_train_res = X_train_vect, y_train\n",
        "    \n",
        "    # Fit LR on the vectorized X with y train labels, \n",
        "    # then predict new y labels using X test\n",
        "    lr.fit(X_train_res, y_train_res)\n",
        "    y_pred = lr.predict(X_test_vect)\n",
        "    \n",
        "    # Determine test set accuracy and f1 score on this fold using the true y labels and predicted y labels\n",
        "    accs.append(accuracy_score(y_test, y_pred))\n",
        "    f1s.append(f1_score(y_test, y_pred))\n",
        "    cms.append(confusion_matrix(y_test, y_pred))\n",
        "\n",
        "    NB_confusion_matrix = format(sum(cms) / len(cms))\n",
        "    \n",
        "print(\"\\nAverage accuracy across folds: {:.2f}%\".format(sum(accs) / len(accs) * 100))\n",
        "print(\"\\nAverage F1 score across folds: {:.2f}%\".format(sum(f1s) / len(f1s) * 100))\n",
        "print(\"\\nAverage Confusion Matrix across folds: \\n\")\n",
        "# .format(sum(cms) / len(cms)))\n",
        "\n",
        "sns.set(font_scale=1.5)\n",
        "cm = confusion_matrix(y_pred, y_test)\n",
        "sns.heatmap(cm, annot=True, fmt='g')\n",
        "plt.show()"
      ],
      "execution_count": null,
      "outputs": [
        {
          "output_type": "stream",
          "text": [
            "\n",
            "Average accuracy across folds: 84.79%\n",
            "\n",
            "Average F1 score across folds: 86.69%\n",
            "\n",
            "Average Confusion Matrix across folds: \n",
            "\n"
          ],
          "name": "stdout"
        },
        {
          "output_type": "display_data",
          "data": {
            "image/png": "[encoded data removed]",
            "text/plain": [
              "<Figure size 432x288 with 2 Axes>"
            ]
          },
          "metadata": {
            "tags": []
          }
        }
      ]
    },
    {
      "cell_type": "code",
      "metadata": {
        "colab": {
          "base_uri": "https://localhost:8080/",
          "height": 590
        },
        "id": "wL86XCOLP5Ae",
        "outputId": "2e3618de-7022-404f-e60a-9045c832d966"
      },
      "source": [
        "fig, (ax1, ax2) = plt.subplots(2, 1, sharex=True, figsize=(16,9))\n",
        "\n",
        "acc_scores = [round(a * 100, 1) for a in accs]\n",
        "f1_scores = [round(f * 100, 2) for f in f1s]\n",
        "\n",
        "x1 = np.arange(len(acc_scores))\n",
        "x2 = np.arange(len(f1_scores))\n",
        "\n",
        "ax1.bar(x1, acc_scores)\n",
        "ax2.bar(x2, f1_scores, color='#559ebf')\n",
        "\n",
        "# Place values on top of bars\n",
        "for i, v in enumerate(list(zip(acc_scores, f1_scores))):\n",
        "    ax1.text(i - 0.25, v[0] + 2, str(v[0]) + '%')\n",
        "    ax2.text(i - 0.25, v[1] + 2, str(v[1]))\n",
        "\n",
        "ax1.set_ylabel('Accuracy (%)')\n",
        "ax1.set_title('Logistic Regression')\n",
        "ax1.set_ylim([0, 100])\n",
        "\n",
        "ax2.set_ylabel('F1 Score')\n",
        "ax2.set_xlabel('Runs')\n",
        "ax2.set_ylim([0, 100])\n",
        "\n",
        "sns.despine(bottom=True, left=True)  # Remove the ticks on axes for cleaner presentation\n",
        "\n",
        "plt.show()"
      ],
      "execution_count": null,
      "outputs": [
        {
          "output_type": "display_data",
          "data": {
            "image/png": "[encoded data removed]",
            "text/plain": [
              "<Figure size 1152x648 with 2 Axes>"
            ]
          },
          "metadata": {
            "tags": []
          }
        }
      ]
    },
    {
      "cell_type": "code",
      "metadata": {
        "colab": {
          "base_uri": "https://localhost:8080/",
          "height": 400
        },
        "id": "eVJ8TMm0Rlm2",
        "outputId": "16c3b34c-63af-4e68-de9b-e7c6d5f048c9"
      },
      "source": [
        "from sklearn.model_selection import ShuffleSplit\n",
        "\n",
        "X = df.clean_comment\n",
        "y = df.category\n",
        "\n",
        "ss = ShuffleSplit(n_splits=10, test_size=0.2)\n",
        "# sm = SMOTE()\n",
        "\n",
        "accs = []\n",
        "f1s = []\n",
        "cms = []\n",
        "\n",
        "for train_index, test_index in ss.split(X):\n",
        "    \n",
        "    X_train, X_test = X.iloc[train_index], X.iloc[test_index]\n",
        "    y_train, y_test = y.iloc[train_index], y.iloc[test_index]\n",
        "    \n",
        "    # Fit vectorizer and transform X train, then transform X test\n",
        "    X_train_vect = vect.fit_transform(X_train)\n",
        "    X_test_vect = vect.transform(X_test)\n",
        "    \n",
        "    # Oversample\n",
        "    X_train_res, y_train_res = X_train_vect, y_train\n",
        "    \n",
        "    # Fit LSVC on the vectorized X with y train labels, \n",
        "    # then predict new y labels using X test\n",
        "    lsvc.fit(X_train_res, y_train_res)\n",
        "    y_pred = lsvc.predict(X_test_vect)\n",
        "    \n",
        "    # Determine test set accuracy and f1 score on this fold using the true y labels and predicted y labels\n",
        "    accs.append(accuracy_score(y_test, y_pred))\n",
        "    f1s.append(f1_score(y_test, y_pred))\n",
        "    cms.append(confusion_matrix(y_test, y_pred))\n",
        "\n",
        "    NB_confusion_matrix = format(sum(cms) / len(cms))\n",
        "    \n",
        "print(\"\\nAverage accuracy across folds: {:.2f}%\".format(sum(accs) / len(accs) * 100))\n",
        "print(\"\\nAverage F1 score across folds: {:.2f}%\".format(sum(f1s) / len(f1s) * 100))\n",
        "print(\"\\nAverage Confusion Matrix across folds: \\n\")\n",
        "# .format(sum(cms) / len(cms)))\n",
        "\n",
        "sns.set(font_scale=1.5)\n",
        "cm = confusion_matrix(y_pred, y_test)\n",
        "sns.heatmap(cm, annot=True, fmt='g')\n",
        "plt.show()"
      ],
      "execution_count": null,
      "outputs": [
        {
          "output_type": "stream",
          "text": [
            "\n",
            "Average accuracy across folds: 84.68%\n",
            "\n",
            "Average F1 score across folds: 86.47%\n",
            "\n",
            "Average Confusion Matrix across folds: \n",
            "\n"
          ],
          "name": "stdout"
        },
        {
          "output_type": "display_data",
          "data": {
            "image/png": "[encoded data removed]",
            "text/plain": [
              "<Figure size 432x288 with 2 Axes>"
            ]
          },
          "metadata": {
            "tags": []
          }
        }
      ]
    },
    {
      "cell_type": "code",
      "metadata": {
        "colab": {
          "base_uri": "https://localhost:8080/",
          "height": 590
        },
        "id": "W9KrRUZ_Rsrj",
        "outputId": "4445377f-3c0f-4eb6-a795-f132c2ea0f6f"
      },
      "source": [
        "fig, (ax1, ax2) = plt.subplots(2, 1, sharex=True, figsize=(16,9))\n",
        "\n",
        "acc_scores = [round(a * 100, 1) for a in accs]\n",
        "f1_scores = [round(f * 100, 2) for f in f1s]\n",
        "\n",
        "x1 = np.arange(len(acc_scores))\n",
        "x2 = np.arange(len(f1_scores))\n",
        "\n",
        "ax1.bar(x1, acc_scores)\n",
        "ax2.bar(x2, f1_scores, color='#559ebf')\n",
        "\n",
        "# Place values on top of bars\n",
        "for i, v in enumerate(list(zip(acc_scores, f1_scores))):\n",
        "    ax1.text(i - 0.25, v[0] + 2, str(v[0]) + '%')\n",
        "    ax2.text(i - 0.25, v[1] + 2, str(v[1]))\n",
        "\n",
        "ax1.set_ylabel('Accuracy (%)')\n",
        "ax1.set_title('Linear Support Vector Classification')\n",
        "ax1.set_ylim([0, 100])\n",
        "\n",
        "ax2.set_ylabel('F1 Score')\n",
        "ax2.set_xlabel('Runs')\n",
        "ax2.set_ylim([0, 100])\n",
        "\n",
        "sns.despine(bottom=True, left=True)  # Remove the ticks on axes for cleaner presentation\n",
        "\n",
        "plt.show()"
      ],
      "execution_count": null,
      "outputs": [
        {
          "output_type": "display_data",
          "data": {
            "image/png": "[encoded data removed]",
            "text/plain": [
              "<Figure size 1152x648 with 2 Axes>"
            ]
          },
          "metadata": {
            "tags": []
          }
        }
      ]
    },
    {
      "cell_type": "code",
      "metadata": {
        "colab": {
          "base_uri": "https://localhost:8080/"
        },
        "id": "arri__XsPGdI",
        "outputId": "dc231040-fa8f-45e4-ac20-88b6b699dea8"
      },
      "source": [
        "# Text Preprocessing\n",
        "def clean_text_date(text):\n",
        "    text = text.lower()\n",
        "\n",
        "    # Replacing Handlers with Empty String\n",
        "    text = re.sub('@[^\\s]+','',text)\n",
        "\n",
        "    # Replacing URLs with Empty String\n",
        "    text = re.sub(r\"http\\S+\", \"\",text)\n",
        "\n",
        "    # Remove all the special characters\n",
        "    text = ' '.join(re.findall(r'\\w+', text))\n",
        "\n",
        "    # Replacing Single Characters with Empty String\n",
        "    text = re.sub(r'\\s+[a-zA-Z]\\s+', ' ', text)\n",
        "\n",
        "    # Removing Extra Spaces\n",
        "    text = re.sub(r'\\s+', ' ', text, flags=re.I)\n",
        "    \n",
        "    return text\n",
        "\n",
        "# Loop through daily title CSV's\n",
        "# Commenting the weekends\n",
        "filelist = {'2021-01-28':'day1.csv',\n",
        "            '2021-01-29':'day2.csv',\n",
        "            # '2021-01-30': 'day3.csv',\n",
        "            # '2021-01-31':'day4.csv',\n",
        "            '2021-02-01': 'day5.csv',\n",
        "            '2021-02-02':'day6.csv',\n",
        "            '2021-02-03':'day7.csv',\n",
        "            '2021-02-04':'day8.csv',\n",
        "            '2021-02-05':'day9.csv',\n",
        "            # '2021-02-06':'day10.csv',\n",
        "            # '2021-02-07':'day11.csv',\n",
        "            # '2021-02-08':'day12.csv'\n",
        "            }\n",
        "nb_array = []\n",
        "lr_array = []\n",
        "lsvc_array = []\n",
        "\n",
        "for key in filelist:\n",
        "    reddit = pd.read_csv(filelist[key], encoding=\"utf-8\")\n",
        "    reddit_title = reddit[\"title\"].dropna()\n",
        "    reddit_title = reddit_title.apply(lambda x: clean_text_date(x))\n",
        "    sample = reddit_title\n",
        "    sample_vect = vect.transform(sample)\n",
        "    # Predictions\n",
        "    nb_array.append(np.mean(nb.predict(sample_vect)))\n",
        "    lr_array.append(np.mean(lr.predict(sample_vect)))\n",
        "    lsvc_array.append(np.mean(lsvc.predict(sample_vect)))\n",
        "\n",
        "print((nb_array) ,'\\n',(lr_array),'\\n', (lsvc_array))\n"
      ],
      "execution_count": null,
      "outputs": [
        {
          "output_type": "stream",
          "text": [
            "[-0.022556390977443608, -0.010322416210016568, 0.2918552036199095, 0.30492676431424764, 0.34695421869088156, 0.37043686415320165, 0.2894534257120862] \n",
            " [0.059314954051796154, 0.06499299095195617, 0.19457013574660634, 0.1744340878828229, 0.21604237608777904, 0.25074805505685216, 0.1624326404926867] \n",
            " [0.004177109440267335, 0.014910156747801709, 0.10407239819004525, 0.1318242343541944, 0.1592886870979947, 0.1813285457809695, 0.10238645111624327]\n"
          ],
          "name": "stdout"
        }
      ]
    },
    {
      "cell_type": "code",
      "metadata": {
        "colab": {
          "base_uri": "https://localhost:8080/"
        },
        "id": "M9znVa5CcElL",
        "outputId": "3e11dc1d-972a-46cd-8478-8970d9931259"
      },
      "source": [
        "# Historical GME data\n",
        "!pip install tiingo"
      ],
      "execution_count": null,
      "outputs": [
        {
          "output_type": "stream",
          "text": [
            "Requirement already satisfied: tiingo in /usr/local/lib/python3.7/dist-packages (0.14.0)\n",
            "Requirement already satisfied: requests in /usr/local/lib/python3.7/dist-packages (from tiingo) (2.23.0)\n",
            "Requirement already satisfied: idna<3,>=2.5 in /usr/local/lib/python3.7/dist-packages (from requests->tiingo) (2.10)\n",
            "Requirement already satisfied: certifi>=2017.4.17 in /usr/local/lib/python3.7/dist-packages (from requests->tiingo) (2020.12.5)\n",
            "Requirement already satisfied: urllib3!=1.25.0,!=1.25.1,<1.26,>=1.21.1 in /usr/local/lib/python3.7/dist-packages (from requests->tiingo) (1.24.3)\n",
            "Requirement already satisfied: chardet<4,>=3.0.2 in /usr/local/lib/python3.7/dist-packages (from requests->tiingo) (3.0.4)\n"
          ],
          "name": "stdout"
        }
      ]
    },
    {
      "cell_type": "code",
      "metadata": {
        "id": "yMINLGLwcHXp"
      },
      "source": [
        "from tiingo import TiingoClient\n",
        "config = {}\n",
        "config['session'] = True\n",
        "config['api_key'] = \"XXXXXXXXXX\"\n",
        "client = TiingoClient(config)"
      ],
      "execution_count": null,
      "outputs": []
    },
    {
      "cell_type": "code",
      "metadata": {
        "id": "EMFHjWKhcLb2"
      },
      "source": [
        "ticker_metadata = client.get_ticker_metadata(\"GME\")\n",
        "ticker_price = client.get_ticker_price(\"GME\", frequency=\"daily\")\n",
        "historical_prices = client.get_dataframe(\"GME\", fmt='csv', startDate='2021-01-28', endDate='2021-02-05', frequency='daily')\n",
        "tickers = client.list_stock_tickers()"
      ],
      "execution_count": null,
      "outputs": []
    },
    {
      "cell_type": "code",
      "metadata": {
        "colab": {
          "base_uri": "https://localhost:8080/",
          "height": 257
        },
        "id": "RihUnAGgcPId",
        "outputId": "528abb1d-c2d3-4905-8ac5-37fc36ee57fc"
      },
      "source": [
        "historical_prices = historical_prices.reset_index()\n",
        "historical_prices[\"date\"] = pd.to_datetime(historical_prices.date).dt.date\n",
        "historical_prices"
      ],
      "execution_count": null,
      "outputs": [
        {
          "output_type": "execute_result",
          "data": {
            "text/html": [
              "<div>\n",
              "<style scoped>\n",
              "    .dataframe tbody tr th:only-of-type {\n",
              "        vertical-align: middle;\n",
              "    }\n",
              "\n",
              "    .dataframe tbody tr th {\n",
              "        vertical-align: top;\n",
              "    }\n",
              "\n",
              "    .dataframe thead th {\n",
              "        text-align: right;\n",
              "    }\n",
              "</style>\n",
              "<table border=\"1\" class=\"dataframe\">\n",
              "  <thead>\n",
              "    <tr style=\"text-align: right;\">\n",
              "      <th></th>\n",
              "      <th>index</th>\n",
              "      <th>date</th>\n",
              "      <th>close</th>\n",
              "      <th>high</th>\n",
              "      <th>low</th>\n",
              "      <th>open</th>\n",
              "      <th>volume</th>\n",
              "      <th>adjClose</th>\n",
              "      <th>adjHigh</th>\n",
              "      <th>adjLow</th>\n",
              "      <th>adjOpen</th>\n",
              "      <th>adjVolume</th>\n",
              "      <th>divCash</th>\n",
              "      <th>splitFactor</th>\n",
              "    </tr>\n",
              "  </thead>\n",
              "  <tbody>\n",
              "    <tr>\n",
              "      <th>0</th>\n",
              "      <td>0</td>\n",
              "      <td>2021-01-28</td>\n",
              "      <td>193.60</td>\n",
              "      <td>483.0000</td>\n",
              "      <td>112.2500</td>\n",
              "      <td>265.00</td>\n",
              "      <td>58815805</td>\n",
              "      <td>193.60</td>\n",
              "      <td>483.0000</td>\n",
              "      <td>112.2500</td>\n",
              "      <td>265.00</td>\n",
              "      <td>58815805</td>\n",
              "      <td>0.0</td>\n",
              "      <td>1.0</td>\n",
              "    </tr>\n",
              "    <tr>\n",
              "      <th>1</th>\n",
              "      <td>1</td>\n",
              "      <td>2021-01-29</td>\n",
              "      <td>325.00</td>\n",
              "      <td>413.9800</td>\n",
              "      <td>250.0000</td>\n",
              "      <td>379.71</td>\n",
              "      <td>49414294</td>\n",
              "      <td>325.00</td>\n",
              "      <td>413.9800</td>\n",
              "      <td>250.0000</td>\n",
              "      <td>379.71</td>\n",
              "      <td>49414294</td>\n",
              "      <td>0.0</td>\n",
              "      <td>1.0</td>\n",
              "    </tr>\n",
              "    <tr>\n",
              "      <th>2</th>\n",
              "      <td>2</td>\n",
              "      <td>2021-02-01</td>\n",
              "      <td>225.00</td>\n",
              "      <td>322.0000</td>\n",
              "      <td>212.0000</td>\n",
              "      <td>316.56</td>\n",
              "      <td>37382152</td>\n",
              "      <td>225.00</td>\n",
              "      <td>322.0000</td>\n",
              "      <td>212.0000</td>\n",
              "      <td>316.56</td>\n",
              "      <td>37382152</td>\n",
              "      <td>0.0</td>\n",
              "      <td>1.0</td>\n",
              "    </tr>\n",
              "    <tr>\n",
              "      <th>3</th>\n",
              "      <td>3</td>\n",
              "      <td>2021-02-02</td>\n",
              "      <td>90.00</td>\n",
              "      <td>158.0000</td>\n",
              "      <td>74.2201</td>\n",
              "      <td>140.76</td>\n",
              "      <td>76663691</td>\n",
              "      <td>90.00</td>\n",
              "      <td>158.0000</td>\n",
              "      <td>74.2201</td>\n",
              "      <td>140.76</td>\n",
              "      <td>76663691</td>\n",
              "      <td>0.0</td>\n",
              "      <td>1.0</td>\n",
              "    </tr>\n",
              "    <tr>\n",
              "      <th>4</th>\n",
              "      <td>4</td>\n",
              "      <td>2021-02-03</td>\n",
              "      <td>92.41</td>\n",
              "      <td>113.3999</td>\n",
              "      <td>85.2500</td>\n",
              "      <td>112.01</td>\n",
              "      <td>42698511</td>\n",
              "      <td>92.41</td>\n",
              "      <td>113.3999</td>\n",
              "      <td>85.2500</td>\n",
              "      <td>112.01</td>\n",
              "      <td>42698511</td>\n",
              "      <td>0.0</td>\n",
              "      <td>1.0</td>\n",
              "    </tr>\n",
              "    <tr>\n",
              "      <th>5</th>\n",
              "      <td>5</td>\n",
              "      <td>2021-02-04</td>\n",
              "      <td>53.50</td>\n",
              "      <td>91.5000</td>\n",
              "      <td>53.3300</td>\n",
              "      <td>91.19</td>\n",
              "      <td>62427275</td>\n",
              "      <td>53.50</td>\n",
              "      <td>91.5000</td>\n",
              "      <td>53.3300</td>\n",
              "      <td>91.19</td>\n",
              "      <td>62427275</td>\n",
              "      <td>0.0</td>\n",
              "      <td>1.0</td>\n",
              "    </tr>\n",
              "    <tr>\n",
              "      <th>6</th>\n",
              "      <td>6</td>\n",
              "      <td>2021-02-05</td>\n",
              "      <td>63.77</td>\n",
              "      <td>95.0000</td>\n",
              "      <td>51.0900</td>\n",
              "      <td>54.04</td>\n",
              "      <td>81345013</td>\n",
              "      <td>63.77</td>\n",
              "      <td>95.0000</td>\n",
              "      <td>51.0900</td>\n",
              "      <td>54.04</td>\n",
              "      <td>81345013</td>\n",
              "      <td>0.0</td>\n",
              "      <td>1.0</td>\n",
              "    </tr>\n",
              "  </tbody>\n",
              "</table>\n",
              "</div>"
            ],
            "text/plain": [
              "   index        date   close  ...  adjVolume  divCash  splitFactor\n",
              "0      0  2021-01-28  193.60  ...   58815805      0.0          1.0\n",
              "1      1  2021-01-29  325.00  ...   49414294      0.0          1.0\n",
              "2      2  2021-02-01  225.00  ...   37382152      0.0          1.0\n",
              "3      3  2021-02-02   90.00  ...   76663691      0.0          1.0\n",
              "4      4  2021-02-03   92.41  ...   42698511      0.0          1.0\n",
              "5      5  2021-02-04   53.50  ...   62427275      0.0          1.0\n",
              "6      6  2021-02-05   63.77  ...   81345013      0.0          1.0\n",
              "\n",
              "[7 rows x 14 columns]"
            ]
          },
          "metadata": {
            "tags": []
          },
          "execution_count": 107
        }
      ]
    },
    {
      "cell_type": "code",
      "metadata": {
        "colab": {
          "base_uri": "https://localhost:8080/",
          "height": 1000
        },
        "id": "5jkDBZuHYcLf",
        "outputId": "8b816623-daa4-487c-bb96-9a0ae0f4ec77"
      },
      "source": [
        "import plotly.graph_objects as go\n",
        "from plotly.subplots import make_subplots\n",
        "\n",
        "trace1 = go.Scatter(\n",
        "    y=historical_prices['close'],\n",
        "    x=[*filelist],\n",
        "    name='Closing Price',\n",
        "    line=dict(color='red', width=4),\n",
        "\n",
        ")\n",
        "trace2 = go.Scatter(\n",
        "    y=nb_array,\n",
        "    x=[*filelist],\n",
        "    name='Multinomial Naive Bayes Model',\n",
        "    yaxis='y2'\n",
        "\n",
        ")\n",
        "trace3 = go.Scatter(\n",
        "    y=lr_array,\n",
        "    x=[*filelist],\n",
        "    name='Logistic Regression Model',\n",
        "    yaxis='y2'\n",
        "\n",
        ")\n",
        "trace4 = go.Scatter(\n",
        "    y=lsvc_array,\n",
        "    x=[*filelist],\n",
        "    name='Linear Support Vector Classification Model',\n",
        "    yaxis='y2'\n",
        "\n",
        ")\n",
        "fig = make_subplots(specs=[[{\"secondary_y\": True}]])\n",
        "fig.add_trace(trace2,secondary_y=True)\n",
        "fig.add_trace(trace3,secondary_y=True)\n",
        "fig.add_trace(trace4,secondary_y=True)\n",
        "fig['layout'].update(height = 600, width = 1000, title = 'Sentiments (mean of the array of different models) with respect to the date',xaxis=dict(\n",
        "      tickangle=0\n",
        "    ))\n",
        "fig.show()\n",
        "fig = make_subplots(specs=[[{\"secondary_y\": True}]])\n",
        "fig.add_trace(trace1)\n",
        "fig.add_trace(trace2,secondary_y=True)\n",
        "fig.add_trace(trace3,secondary_y=True)\n",
        "fig.add_trace(trace4,secondary_y=True)\n",
        "fig['layout'].update(height = 600, width = 1000, title = 'Sentiments (mean of the array of different models) and Closing Price plotted with respect to the date',xaxis=dict(\n",
        "      tickangle=0\n",
        "    ))\n",
        "fig.show()"
      ],
      "execution_count": null,
      "outputs": [
        {
          "output_type": "display_data",
          "data": {
            "text/html": [
              "<html>\n",
              "<head><meta charset=\"utf-8\" /></head>\n",
              "<body>\n",
              "    <div>\n",
              "            <script src=\"https://cdnjs.cloudflare.com/ajax/libs/mathjax/2.7.5/MathJax.js?config=TeX-AMS-MML_SVG\"></script><script type=\"text/javascript\">if (window.MathJax) {MathJax.Hub.Config({SVG: {font: \"STIX-Web\"}});}</script>\n",
              "                <script type=\"text/javascript\">window.PlotlyConfig = {MathJaxConfig: 'local'};</script>\n",
              "        <script src=\"https://cdn.plot.ly/plotly-latest.min.js\"></script>    \n",
              "            <div id=\"1122711a-0738-4b6c-bef3-7f33a79ef904\" class=\"plotly-graph-div\" style=\"height:600px; width:1000px;\"></div>\n",
              "            <script type=\"text/javascript\">\n",
              "                \n",
              "                    window.PLOTLYENV=window.PLOTLYENV || {};\n",
              "                    \n",
              "                if (document.getElementById(\"1122711a-0738-4b6c-bef3-7f33a79ef904\")) {\n",
              "                    Plotly.newPlot(\n",
              "                        '1122711a-0738-4b6c-bef3-7f33a79ef904',\n",
              "                        [{\"name\": \"Multinomial Naive Bayes Model\", \"type\": \"scatter\", \"x\": [\"2021-01-28\", \"2021-01-29\", \"2021-02-01\", \"2021-02-02\", \"2021-02-03\", \"2021-02-04\", \"2021-02-05\"], \"xaxis\": \"x\", \"y\": [-0.022556390977443608, -0.010322416210016568, 0.2918552036199095, 0.30492676431424764, 0.34695421869088156, 0.37043686415320165, 0.2894534257120862], \"yaxis\": \"y2\"}, {\"name\": \"Logistic Regression Model\", \"type\": \"scatter\", \"x\": [\"2021-01-28\", \"2021-01-29\", \"2021-02-01\", \"2021-02-02\", \"2021-02-03\", \"2021-02-04\", \"2021-02-05\"], \"xaxis\": \"x\", \"y\": [0.059314954051796154, 0.06499299095195617, 0.19457013574660634, 0.1744340878828229, 0.21604237608777904, 0.25074805505685216, 0.1624326404926867], \"yaxis\": \"y2\"}, {\"name\": \"Linear Support Vector Classification Model\", \"type\": \"scatter\", \"x\": [\"2021-01-28\", \"2021-01-29\", \"2021-02-01\", \"2021-02-02\", \"2021-02-03\", \"2021-02-04\", \"2021-02-05\"], \"xaxis\": \"x\", \"y\": [0.004177109440267335, 0.014910156747801709, 0.10407239819004525, 0.1318242343541944, 0.1592886870979947, 0.1813285457809695, 0.10238645111624327], \"yaxis\": \"y2\"}],\n",
              "                        {\"height\": 600, \"template\": {\"data\": {\"bar\": [{\"error_x\": {\"color\": \"#2a3f5f\"}, \"error_y\": {\"color\": \"#2a3f5f\"}, \"marker\": {\"line\": {\"color\": \"#E5ECF6\", \"width\": 0.5}}, \"type\": \"bar\"}], \"barpolar\": [{\"marker\": {\"line\": {\"color\": \"#E5ECF6\", \"width\": 0.5}}, \"type\": \"barpolar\"}], \"carpet\": [{\"aaxis\": {\"endlinecolor\": \"#2a3f5f\", \"gridcolor\": \"white\", \"linecolor\": \"white\", \"minorgridcolor\": \"white\", \"startlinecolor\": \"#2a3f5f\"}, \"baxis\": {\"endlinecolor\": \"#2a3f5f\", \"gridcolor\": \"white\", \"linecolor\": \"white\", \"minorgridcolor\": \"white\", \"startlinecolor\": \"#2a3f5f\"}, \"type\": \"carpet\"}], \"choropleth\": [{\"colorbar\": {\"outlinewidth\": 0, \"ticks\": \"\"}, \"type\": \"choropleth\"}], \"contour\": [{\"colorbar\": {\"outlinewidth\": 0, \"ticks\": \"\"}, \"colorscale\": [[0.0, \"#0d0887\"], [0.1111111111111111, \"#46039f\"], [0.2222222222222222, \"#7201a8\"], [0.3333333333333333, \"#9c179e\"], [0.4444444444444444, \"#bd3786\"], [0.5555555555555556, \"#d8576b\"], [0.6666666666666666, \"#ed7953\"], [0.7777777777777778, \"#fb9f3a\"], [0.8888888888888888, \"#fdca26\"], [1.0, \"#f0f921\"]], \"type\": \"contour\"}], \"contourcarpet\": [{\"colorbar\": {\"outlinewidth\": 0, \"ticks\": \"\"}, \"type\": \"contourcarpet\"}], \"heatmap\": [{\"colorbar\": {\"outlinewidth\": 0, \"ticks\": \"\"}, \"colorscale\": [[0.0, \"#0d0887\"], [0.1111111111111111, \"#46039f\"], [0.2222222222222222, \"#7201a8\"], [0.3333333333333333, \"#9c179e\"], [0.4444444444444444, \"#bd3786\"], [0.5555555555555556, \"#d8576b\"], [0.6666666666666666, \"#ed7953\"], [0.7777777777777778, \"#fb9f3a\"], [0.8888888888888888, \"#fdca26\"], [1.0, \"#f0f921\"]], \"type\": \"heatmap\"}], \"heatmapgl\": [{\"colorbar\": {\"outlinewidth\": 0, \"ticks\": \"\"}, \"colorscale\": [[0.0, \"#0d0887\"], [0.1111111111111111, \"#46039f\"], [0.2222222222222222, \"#7201a8\"], [0.3333333333333333, \"#9c179e\"], [0.4444444444444444, \"#bd3786\"], [0.5555555555555556, \"#d8576b\"], [0.6666666666666666, \"#ed7953\"], [0.7777777777777778, \"#fb9f3a\"], [0.8888888888888888, \"#fdca26\"], [1.0, \"#f0f921\"]], \"type\": \"heatmapgl\"}], \"histogram\": [{\"marker\": {\"colorbar\": {\"outlinewidth\": 0, \"ticks\": \"\"}}, \"type\": \"histogram\"}], \"histogram2d\": [{\"colorbar\": {\"outlinewidth\": 0, \"ticks\": \"\"}, \"colorscale\": [[0.0, \"#0d0887\"], [0.1111111111111111, \"#46039f\"], [0.2222222222222222, \"#7201a8\"], [0.3333333333333333, \"#9c179e\"], [0.4444444444444444, \"#bd3786\"], [0.5555555555555556, \"#d8576b\"], [0.6666666666666666, \"#ed7953\"], [0.7777777777777778, \"#fb9f3a\"], [0.8888888888888888, \"#fdca26\"], [1.0, \"#f0f921\"]], \"type\": \"histogram2d\"}], \"histogram2dcontour\": [{\"colorbar\": {\"outlinewidth\": 0, \"ticks\": \"\"}, \"colorscale\": [[0.0, \"#0d0887\"], [0.1111111111111111, \"#46039f\"], [0.2222222222222222, \"#7201a8\"], [0.3333333333333333, \"#9c179e\"], [0.4444444444444444, \"#bd3786\"], [0.5555555555555556, \"#d8576b\"], [0.6666666666666666, \"#ed7953\"], [0.7777777777777778, \"#fb9f3a\"], [0.8888888888888888, \"#fdca26\"], [1.0, \"#f0f921\"]], \"type\": \"histogram2dcontour\"}], \"mesh3d\": [{\"colorbar\": {\"outlinewidth\": 0, \"ticks\": \"\"}, \"type\": \"mesh3d\"}], \"parcoords\": [{\"line\": {\"colorbar\": {\"outlinewidth\": 0, \"ticks\": \"\"}}, \"type\": \"parcoords\"}], \"pie\": [{\"automargin\": true, \"type\": \"pie\"}], \"scatter\": [{\"marker\": {\"colorbar\": {\"outlinewidth\": 0, \"ticks\": \"\"}}, \"type\": \"scatter\"}], \"scatter3d\": [{\"line\": {\"colorbar\": {\"outlinewidth\": 0, \"ticks\": \"\"}}, \"marker\": {\"colorbar\": {\"outlinewidth\": 0, \"ticks\": \"\"}}, \"type\": \"scatter3d\"}], \"scattercarpet\": [{\"marker\": {\"colorbar\": {\"outlinewidth\": 0, \"ticks\": \"\"}}, \"type\": \"scattercarpet\"}], \"scattergeo\": [{\"marker\": {\"colorbar\": {\"outlinewidth\": 0, \"ticks\": \"\"}}, \"type\": \"scattergeo\"}], \"scattergl\": [{\"marker\": {\"colorbar\": {\"outlinewidth\": 0, \"ticks\": \"\"}}, \"type\": \"scattergl\"}], \"scattermapbox\": [{\"marker\": {\"colorbar\": {\"outlinewidth\": 0, \"ticks\": \"\"}}, \"type\": \"scattermapbox\"}], \"scatterpolar\": [{\"marker\": {\"colorbar\": {\"outlinewidth\": 0, \"ticks\": \"\"}}, \"type\": \"scatterpolar\"}], \"scatterpolargl\": [{\"marker\": {\"colorbar\": {\"outlinewidth\": 0, \"ticks\": \"\"}}, \"type\": \"scatterpolargl\"}], \"scatterternary\": [{\"marker\": {\"colorbar\": {\"outlinewidth\": 0, \"ticks\": \"\"}}, \"type\": \"scatterternary\"}], \"surface\": [{\"colorbar\": {\"outlinewidth\": 0, \"ticks\": \"\"}, \"colorscale\": [[0.0, \"#0d0887\"], [0.1111111111111111, \"#46039f\"], [0.2222222222222222, \"#7201a8\"], [0.3333333333333333, \"#9c179e\"], [0.4444444444444444, \"#bd3786\"], [0.5555555555555556, \"#d8576b\"], [0.6666666666666666, \"#ed7953\"], [0.7777777777777778, \"#fb9f3a\"], [0.8888888888888888, \"#fdca26\"], [1.0, \"#f0f921\"]], \"type\": \"surface\"}], \"table\": [{\"cells\": {\"fill\": {\"color\": \"#EBF0F8\"}, \"line\": {\"color\": \"white\"}}, \"header\": {\"fill\": {\"color\": \"#C8D4E3\"}, \"line\": {\"color\": \"white\"}}, \"type\": \"table\"}]}, \"layout\": {\"annotationdefaults\": {\"arrowcolor\": \"#2a3f5f\", \"arrowhead\": 0, \"arrowwidth\": 1}, \"coloraxis\": {\"colorbar\": {\"outlinewidth\": 0, \"ticks\": \"\"}}, \"colorscale\": {\"diverging\": [[0, \"#8e0152\"], [0.1, \"#c51b7d\"], [0.2, \"#de77ae\"], [0.3, \"#f1b6da\"], [0.4, \"#fde0ef\"], [0.5, \"#f7f7f7\"], [0.6, \"#e6f5d0\"], [0.7, \"#b8e186\"], [0.8, \"#7fbc41\"], [0.9, \"#4d9221\"], [1, \"#276419\"]], \"sequential\": [[0.0, \"#0d0887\"], [0.1111111111111111, \"#46039f\"], [0.2222222222222222, \"#7201a8\"], [0.3333333333333333, \"#9c179e\"], [0.4444444444444444, \"#bd3786\"], [0.5555555555555556, \"#d8576b\"], [0.6666666666666666, \"#ed7953\"], [0.7777777777777778, \"#fb9f3a\"], [0.8888888888888888, \"#fdca26\"], [1.0, \"#f0f921\"]], \"sequentialminus\": [[0.0, \"#0d0887\"], [0.1111111111111111, \"#46039f\"], [0.2222222222222222, \"#7201a8\"], [0.3333333333333333, \"#9c179e\"], [0.4444444444444444, \"#bd3786\"], [0.5555555555555556, \"#d8576b\"], [0.6666666666666666, \"#ed7953\"], [0.7777777777777778, \"#fb9f3a\"], [0.8888888888888888, \"#fdca26\"], [1.0, \"#f0f921\"]]}, \"colorway\": [\"#636efa\", \"#EF553B\", \"#00cc96\", \"#ab63fa\", \"#FFA15A\", \"#19d3f3\", \"#FF6692\", \"#B6E880\", \"#FF97FF\", \"#FECB52\"], \"font\": {\"color\": \"#2a3f5f\"}, \"geo\": {\"bgcolor\": \"white\", \"lakecolor\": \"white\", \"landcolor\": \"#E5ECF6\", \"showlakes\": true, \"showland\": true, \"subunitcolor\": \"white\"}, \"hoverlabel\": {\"align\": \"left\"}, \"hovermode\": \"closest\", \"mapbox\": {\"style\": \"light\"}, \"paper_bgcolor\": \"white\", \"plot_bgcolor\": \"#E5ECF6\", \"polar\": {\"angularaxis\": {\"gridcolor\": \"white\", \"linecolor\": \"white\", \"ticks\": \"\"}, \"bgcolor\": \"#E5ECF6\", \"radialaxis\": {\"gridcolor\": \"white\", \"linecolor\": \"white\", \"ticks\": \"\"}}, \"scene\": {\"xaxis\": {\"backgroundcolor\": \"#E5ECF6\", \"gridcolor\": \"white\", \"gridwidth\": 2, \"linecolor\": \"white\", \"showbackground\": true, \"ticks\": \"\", \"zerolinecolor\": \"white\"}, \"yaxis\": {\"backgroundcolor\": \"#E5ECF6\", \"gridcolor\": \"white\", \"gridwidth\": 2, \"linecolor\": \"white\", \"showbackground\": true, \"ticks\": \"\", \"zerolinecolor\": \"white\"}, \"zaxis\": {\"backgroundcolor\": \"#E5ECF6\", \"gridcolor\": \"white\", \"gridwidth\": 2, \"linecolor\": \"white\", \"showbackground\": true, \"ticks\": \"\", \"zerolinecolor\": \"white\"}}, \"shapedefaults\": {\"line\": {\"color\": \"#2a3f5f\"}}, \"ternary\": {\"aaxis\": {\"gridcolor\": \"white\", \"linecolor\": \"white\", \"ticks\": \"\"}, \"baxis\": {\"gridcolor\": \"white\", \"linecolor\": \"white\", \"ticks\": \"\"}, \"bgcolor\": \"#E5ECF6\", \"caxis\": {\"gridcolor\": \"white\", \"linecolor\": \"white\", \"ticks\": \"\"}}, \"title\": {\"x\": 0.05}, \"xaxis\": {\"automargin\": true, \"gridcolor\": \"white\", \"linecolor\": \"white\", \"ticks\": \"\", \"title\": {\"standoff\": 15}, \"zerolinecolor\": \"white\", \"zerolinewidth\": 2}, \"yaxis\": {\"automargin\": true, \"gridcolor\": \"white\", \"linecolor\": \"white\", \"ticks\": \"\", \"title\": {\"standoff\": 15}, \"zerolinecolor\": \"white\", \"zerolinewidth\": 2}}}, \"title\": {\"text\": \"Sentiments (mean of the array of different models) with respect to the date\"}, \"width\": 1000, \"xaxis\": {\"anchor\": \"y\", \"domain\": [0.0, 0.94], \"tickangle\": 0}, \"yaxis\": {\"anchor\": \"x\", \"domain\": [0.0, 1.0]}, \"yaxis2\": {\"anchor\": \"x\", \"overlaying\": \"y\", \"side\": \"right\"}},\n",
              "                        {\"responsive\": true}\n",
              "                    ).then(function(){\n",
              "                            \n",
              "var gd = document.getElementById('1122711a-0738-4b6c-bef3-7f33a79ef904');\n",
              "var x = new MutationObserver(function (mutations, observer) {{\n",
              "        var display = window.getComputedStyle(gd).display;\n",
              "        if (!display || display === 'none') {{\n",
              "            console.log([gd, 'removed!']);\n",
              "            Plotly.purge(gd);\n",
              "            observer.disconnect();\n",
              "        }}\n",
              "}});\n",
              "\n",
              "// Listen for the removal of the full notebook cells\n",
              "var notebookContainer = gd.closest('#notebook-container');\n",
              "if (notebookContainer) {{\n",
              "    x.observe(notebookContainer, {childList: true});\n",
              "}}\n",
              "\n",
              "// Listen for the clearing of the current output cell\n",
              "var outputEl = gd.closest('.output');\n",
              "if (outputEl) {{\n",
              "    x.observe(outputEl, {childList: true});\n",
              "}}\n",
              "\n",
              "                        })\n",
              "                };\n",
              "                \n",
              "            </script>\n",
              "        </div>\n",
              "</body>\n",
              "</html>"
            ]
          },
          "metadata": {
            "tags": []
          }
        },
        {
          "output_type": "display_data",
          "data": {
            "text/html": [
              "<html>\n",
              "<head><meta charset=\"utf-8\" /></head>\n",
              "<body>\n",
              "    <div>\n",
              "            <script src=\"https://cdnjs.cloudflare.com/ajax/libs/mathjax/2.7.5/MathJax.js?config=TeX-AMS-MML_SVG\"></script><script type=\"text/javascript\">if (window.MathJax) {MathJax.Hub.Config({SVG: {font: \"STIX-Web\"}});}</script>\n",
              "                <script type=\"text/javascript\">window.PlotlyConfig = {MathJaxConfig: 'local'};</script>\n",
              "        <script src=\"https://cdn.plot.ly/plotly-latest.min.js\"></script>    \n",
              "            <div id=\"7b46d23c-f5ce-4190-b3ed-8f026f0d790d\" class=\"plotly-graph-div\" style=\"height:600px; width:1000px;\"></div>\n",
              "            <script type=\"text/javascript\">\n",
              "                \n",
              "                    window.PLOTLYENV=window.PLOTLYENV || {};\n",
              "                    \n",
              "                if (document.getElementById(\"7b46d23c-f5ce-4190-b3ed-8f026f0d790d\")) {\n",
              "                    Plotly.newPlot(\n",
              "                        '7b46d23c-f5ce-4190-b3ed-8f026f0d790d',\n",
              "                        [{\"line\": {\"color\": \"red\", \"width\": 4}, \"name\": \"Closing Price\", \"type\": \"scatter\", \"x\": [\"2021-01-28\", \"2021-01-29\", \"2021-02-01\", \"2021-02-02\", \"2021-02-03\", \"2021-02-04\", \"2021-02-05\"], \"y\": [193.6, 325.0, 225.0, 90.0, 92.41, 53.5, 63.77]}, {\"name\": \"Multinomial Naive Bayes Model\", \"type\": \"scatter\", \"x\": [\"2021-01-28\", \"2021-01-29\", \"2021-02-01\", \"2021-02-02\", \"2021-02-03\", \"2021-02-04\", \"2021-02-05\"], \"xaxis\": \"x\", \"y\": [-0.022556390977443608, -0.010322416210016568, 0.2918552036199095, 0.30492676431424764, 0.34695421869088156, 0.37043686415320165, 0.2894534257120862], \"yaxis\": \"y2\"}, {\"name\": \"Logistic Regression Model\", \"type\": \"scatter\", \"x\": [\"2021-01-28\", \"2021-01-29\", \"2021-02-01\", \"2021-02-02\", \"2021-02-03\", \"2021-02-04\", \"2021-02-05\"], \"xaxis\": \"x\", \"y\": [0.059314954051796154, 0.06499299095195617, 0.19457013574660634, 0.1744340878828229, 0.21604237608777904, 0.25074805505685216, 0.1624326404926867], \"yaxis\": \"y2\"}, {\"name\": \"Linear Support Vector Classification Model\", \"type\": \"scatter\", \"x\": [\"2021-01-28\", \"2021-01-29\", \"2021-02-01\", \"2021-02-02\", \"2021-02-03\", \"2021-02-04\", \"2021-02-05\"], \"xaxis\": \"x\", \"y\": [0.004177109440267335, 0.014910156747801709, 0.10407239819004525, 0.1318242343541944, 0.1592886870979947, 0.1813285457809695, 0.10238645111624327], \"yaxis\": \"y2\"}],\n",
              "                        {\"height\": 600, \"template\": {\"data\": {\"bar\": [{\"error_x\": {\"color\": \"#2a3f5f\"}, \"error_y\": {\"color\": \"#2a3f5f\"}, \"marker\": {\"line\": {\"color\": \"#E5ECF6\", \"width\": 0.5}}, \"type\": \"bar\"}], \"barpolar\": [{\"marker\": {\"line\": {\"color\": \"#E5ECF6\", \"width\": 0.5}}, \"type\": \"barpolar\"}], \"carpet\": [{\"aaxis\": {\"endlinecolor\": \"#2a3f5f\", \"gridcolor\": \"white\", \"linecolor\": \"white\", \"minorgridcolor\": \"white\", \"startlinecolor\": \"#2a3f5f\"}, \"baxis\": {\"endlinecolor\": \"#2a3f5f\", \"gridcolor\": \"white\", \"linecolor\": \"white\", \"minorgridcolor\": \"white\", \"startlinecolor\": \"#2a3f5f\"}, \"type\": \"carpet\"}], \"choropleth\": [{\"colorbar\": {\"outlinewidth\": 0, \"ticks\": \"\"}, \"type\": \"choropleth\"}], \"contour\": [{\"colorbar\": {\"outlinewidth\": 0, \"ticks\": \"\"}, \"colorscale\": [[0.0, \"#0d0887\"], [0.1111111111111111, \"#46039f\"], [0.2222222222222222, \"#7201a8\"], [0.3333333333333333, \"#9c179e\"], [0.4444444444444444, \"#bd3786\"], [0.5555555555555556, \"#d8576b\"], [0.6666666666666666, \"#ed7953\"], [0.7777777777777778, \"#fb9f3a\"], [0.8888888888888888, \"#fdca26\"], [1.0, \"#f0f921\"]], \"type\": \"contour\"}], \"contourcarpet\": [{\"colorbar\": {\"outlinewidth\": 0, \"ticks\": \"\"}, \"type\": \"contourcarpet\"}], \"heatmap\": [{\"colorbar\": {\"outlinewidth\": 0, \"ticks\": \"\"}, \"colorscale\": [[0.0, \"#0d0887\"], [0.1111111111111111, \"#46039f\"], [0.2222222222222222, \"#7201a8\"], [0.3333333333333333, \"#9c179e\"], [0.4444444444444444, \"#bd3786\"], [0.5555555555555556, \"#d8576b\"], [0.6666666666666666, \"#ed7953\"], [0.7777777777777778, \"#fb9f3a\"], [0.8888888888888888, \"#fdca26\"], [1.0, \"#f0f921\"]], \"type\": \"heatmap\"}], \"heatmapgl\": [{\"colorbar\": {\"outlinewidth\": 0, \"ticks\": \"\"}, \"colorscale\": [[0.0, \"#0d0887\"], [0.1111111111111111, \"#46039f\"], [0.2222222222222222, \"#7201a8\"], [0.3333333333333333, \"#9c179e\"], [0.4444444444444444, \"#bd3786\"], [0.5555555555555556, \"#d8576b\"], [0.6666666666666666, \"#ed7953\"], [0.7777777777777778, \"#fb9f3a\"], [0.8888888888888888, \"#fdca26\"], [1.0, \"#f0f921\"]], \"type\": \"heatmapgl\"}], \"histogram\": [{\"marker\": {\"colorbar\": {\"outlinewidth\": 0, \"ticks\": \"\"}}, \"type\": \"histogram\"}], \"histogram2d\": [{\"colorbar\": {\"outlinewidth\": 0, \"ticks\": \"\"}, \"colorscale\": [[0.0, \"#0d0887\"], [0.1111111111111111, \"#46039f\"], [0.2222222222222222, \"#7201a8\"], [0.3333333333333333, \"#9c179e\"], [0.4444444444444444, \"#bd3786\"], [0.5555555555555556, \"#d8576b\"], [0.6666666666666666, \"#ed7953\"], [0.7777777777777778, \"#fb9f3a\"], [0.8888888888888888, \"#fdca26\"], [1.0, \"#f0f921\"]], \"type\": \"histogram2d\"}], \"histogram2dcontour\": [{\"colorbar\": {\"outlinewidth\": 0, \"ticks\": \"\"}, \"colorscale\": [[0.0, \"#0d0887\"], [0.1111111111111111, \"#46039f\"], [0.2222222222222222, \"#7201a8\"], [0.3333333333333333, \"#9c179e\"], [0.4444444444444444, \"#bd3786\"], [0.5555555555555556, \"#d8576b\"], [0.6666666666666666, \"#ed7953\"], [0.7777777777777778, \"#fb9f3a\"], [0.8888888888888888, \"#fdca26\"], [1.0, \"#f0f921\"]], \"type\": \"histogram2dcontour\"}], \"mesh3d\": [{\"colorbar\": {\"outlinewidth\": 0, \"ticks\": \"\"}, \"type\": \"mesh3d\"}], \"parcoords\": [{\"line\": {\"colorbar\": {\"outlinewidth\": 0, \"ticks\": \"\"}}, \"type\": \"parcoords\"}], \"pie\": [{\"automargin\": true, \"type\": \"pie\"}], \"scatter\": [{\"marker\": {\"colorbar\": {\"outlinewidth\": 0, \"ticks\": \"\"}}, \"type\": \"scatter\"}], \"scatter3d\": [{\"line\": {\"colorbar\": {\"outlinewidth\": 0, \"ticks\": \"\"}}, \"marker\": {\"colorbar\": {\"outlinewidth\": 0, \"ticks\": \"\"}}, \"type\": \"scatter3d\"}], \"scattercarpet\": [{\"marker\": {\"colorbar\": {\"outlinewidth\": 0, \"ticks\": \"\"}}, \"type\": \"scattercarpet\"}], \"scattergeo\": [{\"marker\": {\"colorbar\": {\"outlinewidth\": 0, \"ticks\": \"\"}}, \"type\": \"scattergeo\"}], \"scattergl\": [{\"marker\": {\"colorbar\": {\"outlinewidth\": 0, \"ticks\": \"\"}}, \"type\": \"scattergl\"}], \"scattermapbox\": [{\"marker\": {\"colorbar\": {\"outlinewidth\": 0, \"ticks\": \"\"}}, \"type\": \"scattermapbox\"}], \"scatterpolar\": [{\"marker\": {\"colorbar\": {\"outlinewidth\": 0, \"ticks\": \"\"}}, \"type\": \"scatterpolar\"}], \"scatterpolargl\": [{\"marker\": {\"colorbar\": {\"outlinewidth\": 0, \"ticks\": \"\"}}, \"type\": \"scatterpolargl\"}], \"scatterternary\": [{\"marker\": {\"colorbar\": {\"outlinewidth\": 0, \"ticks\": \"\"}}, \"type\": \"scatterternary\"}], \"surface\": [{\"colorbar\": {\"outlinewidth\": 0, \"ticks\": \"\"}, \"colorscale\": [[0.0, \"#0d0887\"], [0.1111111111111111, \"#46039f\"], [0.2222222222222222, \"#7201a8\"], [0.3333333333333333, \"#9c179e\"], [0.4444444444444444, \"#bd3786\"], [0.5555555555555556, \"#d8576b\"], [0.6666666666666666, \"#ed7953\"], [0.7777777777777778, \"#fb9f3a\"], [0.8888888888888888, \"#fdca26\"], [1.0, \"#f0f921\"]], \"type\": \"surface\"}], \"table\": [{\"cells\": {\"fill\": {\"color\": \"#EBF0F8\"}, \"line\": {\"color\": \"white\"}}, \"header\": {\"fill\": {\"color\": \"#C8D4E3\"}, \"line\": {\"color\": \"white\"}}, \"type\": \"table\"}]}, \"layout\": {\"annotationdefaults\": {\"arrowcolor\": \"#2a3f5f\", \"arrowhead\": 0, \"arrowwidth\": 1}, \"coloraxis\": {\"colorbar\": {\"outlinewidth\": 0, \"ticks\": \"\"}}, \"colorscale\": {\"diverging\": [[0, \"#8e0152\"], [0.1, \"#c51b7d\"], [0.2, \"#de77ae\"], [0.3, \"#f1b6da\"], [0.4, \"#fde0ef\"], [0.5, \"#f7f7f7\"], [0.6, \"#e6f5d0\"], [0.7, \"#b8e186\"], [0.8, \"#7fbc41\"], [0.9, \"#4d9221\"], [1, \"#276419\"]], \"sequential\": [[0.0, \"#0d0887\"], [0.1111111111111111, \"#46039f\"], [0.2222222222222222, \"#7201a8\"], [0.3333333333333333, \"#9c179e\"], [0.4444444444444444, \"#bd3786\"], [0.5555555555555556, \"#d8576b\"], [0.6666666666666666, \"#ed7953\"], [0.7777777777777778, \"#fb9f3a\"], [0.8888888888888888, \"#fdca26\"], [1.0, \"#f0f921\"]], \"sequentialminus\": [[0.0, \"#0d0887\"], [0.1111111111111111, \"#46039f\"], [0.2222222222222222, \"#7201a8\"], [0.3333333333333333, \"#9c179e\"], [0.4444444444444444, \"#bd3786\"], [0.5555555555555556, \"#d8576b\"], [0.6666666666666666, \"#ed7953\"], [0.7777777777777778, \"#fb9f3a\"], [0.8888888888888888, \"#fdca26\"], [1.0, \"#f0f921\"]]}, \"colorway\": [\"#636efa\", \"#EF553B\", \"#00cc96\", \"#ab63fa\", \"#FFA15A\", \"#19d3f3\", \"#FF6692\", \"#B6E880\", \"#FF97FF\", \"#FECB52\"], \"font\": {\"color\": \"#2a3f5f\"}, \"geo\": {\"bgcolor\": \"white\", \"lakecolor\": \"white\", \"landcolor\": \"#E5ECF6\", \"showlakes\": true, \"showland\": true, \"subunitcolor\": \"white\"}, \"hoverlabel\": {\"align\": \"left\"}, \"hovermode\": \"closest\", \"mapbox\": {\"style\": \"light\"}, \"paper_bgcolor\": \"white\", \"plot_bgcolor\": \"#E5ECF6\", \"polar\": {\"angularaxis\": {\"gridcolor\": \"white\", \"linecolor\": \"white\", \"ticks\": \"\"}, \"bgcolor\": \"#E5ECF6\", \"radialaxis\": {\"gridcolor\": \"white\", \"linecolor\": \"white\", \"ticks\": \"\"}}, \"scene\": {\"xaxis\": {\"backgroundcolor\": \"#E5ECF6\", \"gridcolor\": \"white\", \"gridwidth\": 2, \"linecolor\": \"white\", \"showbackground\": true, \"ticks\": \"\", \"zerolinecolor\": \"white\"}, \"yaxis\": {\"backgroundcolor\": \"#E5ECF6\", \"gridcolor\": \"white\", \"gridwidth\": 2, \"linecolor\": \"white\", \"showbackground\": true, \"ticks\": \"\", \"zerolinecolor\": \"white\"}, \"zaxis\": {\"backgroundcolor\": \"#E5ECF6\", \"gridcolor\": \"white\", \"gridwidth\": 2, \"linecolor\": \"white\", \"showbackground\": true, \"ticks\": \"\", \"zerolinecolor\": \"white\"}}, \"shapedefaults\": {\"line\": {\"color\": \"#2a3f5f\"}}, \"ternary\": {\"aaxis\": {\"gridcolor\": \"white\", \"linecolor\": \"white\", \"ticks\": \"\"}, \"baxis\": {\"gridcolor\": \"white\", \"linecolor\": \"white\", \"ticks\": \"\"}, \"bgcolor\": \"#E5ECF6\", \"caxis\": {\"gridcolor\": \"white\", \"linecolor\": \"white\", \"ticks\": \"\"}}, \"title\": {\"x\": 0.05}, \"xaxis\": {\"automargin\": true, \"gridcolor\": \"white\", \"linecolor\": \"white\", \"ticks\": \"\", \"title\": {\"standoff\": 15}, \"zerolinecolor\": \"white\", \"zerolinewidth\": 2}, \"yaxis\": {\"automargin\": true, \"gridcolor\": \"white\", \"linecolor\": \"white\", \"ticks\": \"\", \"title\": {\"standoff\": 15}, \"zerolinecolor\": \"white\", \"zerolinewidth\": 2}}}, \"title\": {\"text\": \"Sentiments (mean of the array of different models) and Closing Price plotted with respect to the date\"}, \"width\": 1000, \"xaxis\": {\"anchor\": \"y\", \"domain\": [0.0, 0.94], \"tickangle\": 0}, \"yaxis\": {\"anchor\": \"x\", \"domain\": [0.0, 1.0]}, \"yaxis2\": {\"anchor\": \"x\", \"overlaying\": \"y\", \"side\": \"right\"}},\n",
              "                        {\"responsive\": true}\n",
              "                    ).then(function(){\n",
              "                            \n",
              "var gd = document.getElementById('7b46d23c-f5ce-4190-b3ed-8f026f0d790d');\n",
              "var x = new MutationObserver(function (mutations, observer) {{\n",
              "        var display = window.getComputedStyle(gd).display;\n",
              "        if (!display || display === 'none') {{\n",
              "            console.log([gd, 'removed!']);\n",
              "            Plotly.purge(gd);\n",
              "            observer.disconnect();\n",
              "        }}\n",
              "}});\n",
              "\n",
              "// Listen for the removal of the full notebook cells\n",
              "var notebookContainer = gd.closest('#notebook-container');\n",
              "if (notebookContainer) {{\n",
              "    x.observe(notebookContainer, {childList: true});\n",
              "}}\n",
              "\n",
              "// Listen for the clearing of the current output cell\n",
              "var outputEl = gd.closest('.output');\n",
              "if (outputEl) {{\n",
              "    x.observe(outputEl, {childList: true});\n",
              "}}\n",
              "\n",
              "                        })\n",
              "                };\n",
              "                \n",
              "            </script>\n",
              "        </div>\n",
              "</body>\n",
              "</html>"
            ]
          },
          "metadata": {
            "tags": []
          }
        }
      ]
    }
  ]
}
